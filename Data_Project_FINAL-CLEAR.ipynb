{
 "cells": [
  {
   "cell_type": "code",
   "execution_count": null,
   "metadata": {
    "id": "_UsNwjCxNsWF"
   },
   "outputs": [],
   "source": [
    "import pandas as pd\n",
    "import chardet"
   ]
  },
  {
   "cell_type": "code",
   "execution_count": null,
   "metadata": {
    "id": "pQgiLFbTcsCp"
   },
   "outputs": [],
   "source": [
    "# initializing and cleaning individual datasets starting with smokers\n",
    "smoker_data = pd.read_excel('Smoker_Data.xlsx')\n",
    "\n",
    "#rename column to make it more logical when merged\n",
    "smoker_data = smoker_data.rename(columns={\"Proportion\": \"Proportion_smokers\"})\n",
    "smoker_data = smoker_data.rename(columns={\"Current\": \"Current_smokers\"})\n",
    "\n",
    "smoker_data.head\n",
    "\n",
    "#filter rest of columns out\n",
    "smoker_data = smoker_data.loc[:, [\"State\", \"Proportion_smokers\", \"Current_smokers\"]]"
   ]
  },
  {
   "cell_type": "code",
   "execution_count": null,
   "metadata": {
    "id": "HfTmr5qne402"
   },
   "outputs": [],
   "source": [
    "#now with veterans dataset\n",
    "\n",
    "veterans_data = pd.read_excel('Veterans_by_State.xlsx')\n",
    "\n",
    "veterans_data = veterans_data.rename(columns={\"Grand Total\": \"number_of_veterans\"})\n",
    "\n",
    "veterans_data = veterans_data.loc[:, [\"State\", \"number_of_veterans\"]]"
   ]
  },
  {
   "cell_type": "code",
   "execution_count": null,
   "metadata": {
    "id": "JRvwkWkSgqFS"
   },
   "outputs": [],
   "source": [
    "#now with diabetes data set\n",
    "\n",
    "diabetes_data = pd.read_csv('Diabetes_By_State.csv', skiprows=[0, 1])\n",
    "\n",
    "diabetes_data = diabetes_data.rename(columns={\"Percentage\": \"Percentage_diabetic\"})\n",
    "\n",
    "diabetes_data = diabetes_data.loc[:, [\"State\", \"Percentage_diabetic\"]]"
   ]
  },
  {
   "cell_type": "code",
   "execution_count": null,
   "metadata": {
    "id": "LLT6ljDkh2xv"
   },
   "outputs": [],
   "source": [
    "#merging above 3\n",
    "\n",
    "merged_SmokDiabVet = smoker_data.merge(veterans_data, on='State').merge(diabetes_data, on = 'State')"
   ]
  },
  {
   "cell_type": "code",
   "execution_count": null,
   "metadata": {
    "id": "UDUrit-Vy_g8"
   },
   "outputs": [],
   "source": [
    "#condensing accidents data\n",
    "\n",
    "accident_2018 = pd.read_csv('accident2018.csv')\n",
    "\n",
    "accident_2018_condensed = accident_2018.groupby('STATENAME').size().reset_index(name='Accidents_2018')\n",
    "accident_2018_condensed = accident_2018_condensed.rename(columns={\"STATENAME\": \"State\"})"
   ]
  },
  {
   "cell_type": "code",
   "execution_count": null,
   "metadata": {
    "colab": {
     "base_uri": "https://localhost:8080/",
     "height": 276
    },
    "id": "w9wLY2w73WbV",
    "outputId": "653a3d52-c59c-4628-e132-ba683e558133"
   },
   "outputs": [],
   "source": [
    "accident_2019 = pd.read_csv('accident2019.csv', encoding='ISO-8859-1')\n",
    "\n",
    "accident_2019_condensed = accident_2019.groupby('STATENAME').size().reset_index(name='Accidents_2019')\n",
    "accident_2019_condensed = accident_2019_condensed.rename(columns={\"STATENAME\": \"State\"})\n",
    "\n",
    "accident_2019_condensed.head()"
   ]
  },
  {
   "cell_type": "code",
   "execution_count": null,
   "metadata": {
    "colab": {
     "base_uri": "https://localhost:8080/",
     "height": 206
    },
    "id": "GEWTRWVh3Wtt",
    "outputId": "8327d167-7183-4809-cd33-d9e7bb8fb108"
   },
   "outputs": [],
   "source": [
    "#condensing accident 2020 data\n",
    "accident_2020 = pd.read_csv('accident2020.csv', encoding='ISO-8859-1')\n",
    "\n",
    "accident_2020_condensed = accident_2020.groupby('STATENAME').size().reset_index(name='Accidents_2020')\n",
    "accident_2020_condensed = accident_2020_condensed.rename(columns={\"STATENAME\": \"State\"})\n",
    "\n",
    "accident_2020_condensed.head()"
   ]
  },
  {
   "cell_type": "code",
   "execution_count": null,
   "metadata": {
    "colab": {
     "base_uri": "https://localhost:8080/",
     "height": 206
    },
    "id": "eXi5md5X3wsT",
    "outputId": "822f9777-5b3e-4612-9919-1a76547a2885"
   },
   "outputs": [],
   "source": [
    "#merging accident data sets\n",
    "merged_accidents = accident_2018_condensed.merge(accident_2019_condensed, on='State').merge(accident_2020_condensed, on = 'State')\n",
    "\n",
    "merged_accidents.head()"
   ]
  },
  {
   "cell_type": "code",
   "execution_count": null,
   "metadata": {
    "colab": {
     "base_uri": "https://localhost:8080/",
     "height": 206
    },
    "id": "JAkhnKxv6rNk",
    "outputId": "8cd9f020-589a-4725-ff90-509f189e5008"
   },
   "outputs": [],
   "source": [
    "full_dataframe = merged_accidents.merge(merged_SmokDiabVet, on = 'State')\n",
    "\n",
    "full_dataframe.head()"
   ]
  },
  {
   "cell_type": "code",
   "execution_count": null,
   "metadata": {
    "colab": {
     "base_uri": "https://localhost:8080/"
    },
    "id": "YopgxMCsFgK7",
    "outputId": "83cbffbe-570d-40b0-80ca-ecce0d798001"
   },
   "outputs": [],
   "source": [
    "#Data analysis\n",
    "\n",
    "#this is the raw data size\n",
    "tuples_list = [accident_2019.shape, accident_2020.shape, accident_2018.shape, smoker_data.shape, veterans_data.shape, diabetes_data.shape]\n",
    "raw_data_size = tuple(sum(values) for values in zip(*tuples_list))\n",
    "raw_data_size"
   ]
  },
  {
   "cell_type": "code",
   "execution_count": null,
   "metadata": {
    "id": "0Awf5l0kWdVE"
   },
   "outputs": [],
   "source": [
    "#save file\n",
    "file_path = 'Data_Viz_FullData.csv'\n",
    "full_dataframe.to_csv(file_path, index=False)"
   ]
  },
  {
   "cell_type": "code",
   "execution_count": null,
   "metadata": {
    "colab": {
     "base_uri": "https://localhost:8080/"
    },
    "id": "ZFkvVsShGtpm",
    "outputId": "eb0588e9-68cd-48fe-da4c-17754925d974"
   },
   "outputs": [],
   "source": [
    "#this is the cleaned data size\n",
    "df = full_dataframe\n",
    "\n",
    "df.shape"
   ]
  },
  {
   "cell_type": "code",
   "execution_count": null,
   "metadata": {
    "colab": {
     "base_uri": "https://localhost:8080/"
    },
    "id": "ctkmu2tHOJUG",
    "outputId": "1c4e5731-55de-4c60-a4b7-3bf8fdfda425"
   },
   "outputs": [],
   "source": [
    "# column names\n",
    "df.columns"
   ]
  },
  {
   "cell_type": "code",
   "execution_count": null,
   "metadata": {
    "colab": {
     "base_uri": "https://localhost:8080/",
     "height": 206
    },
    "id": "KIRRr407I3p8",
    "outputId": "90462ae3-45eb-4325-d361-54e4f86be17e"
   },
   "outputs": [],
   "source": [
    "# classificiation of each column\n",
    "df.head()"
   ]
  },
  {
   "cell_type": "code",
   "execution_count": null,
   "metadata": {
    "colab": {
     "base_uri": "https://localhost:8080/"
    },
    "id": "ic-yGLZKJJTO",
    "outputId": "0bd294e9-994d-4741-ab0c-9ba9a314f04f"
   },
   "outputs": [],
   "source": [
    "df.info()"
   ]
  },
  {
   "cell_type": "code",
   "execution_count": null,
   "metadata": {
    "colab": {
     "base_uri": "https://localhost:8080/"
    },
    "id": "kYP7y9cVJ67Y",
    "outputId": "13c04384-7962-49f0-ad2e-b6ca2cf03e0d"
   },
   "outputs": [],
   "source": [
    "# fix datatype of percentage_diabetic\n",
    "df['Percentage_diabetic'] = df['Percentage_diabetic'].astype('float64')\n",
    "df.dtypes"
   ]
  },
  {
   "cell_type": "code",
   "execution_count": null,
   "metadata": {
    "colab": {
     "base_uri": "https://localhost:8080/",
     "height": 300
    },
    "id": "G18s1xxvKZ0L",
    "outputId": "978ef85f-711d-4ffc-9e3f-c327bc1ce595"
   },
   "outputs": [],
   "source": [
    "# quantitative data information\n",
    "df.describe()"
   ]
  },
  {
   "cell_type": "code",
   "execution_count": null,
   "metadata": {
    "colab": {
     "base_uri": "https://localhost:8080/"
    },
    "id": "ij6eG5MtKzIO",
    "outputId": "6b874941-e8af-484d-a7c4-304ee8a77e35"
   },
   "outputs": [],
   "source": [
    "# get info to easily display in writeup\n",
    "def get_range(column):\n",
    "  return column.max() - column.min()\n",
    "\n",
    "for column in df.columns:\n",
    "    # check if if the datatype is numeric! (documentation from online, need to exclude state)\n",
    "    if pd.api.types.is_numeric_dtype(df[column]):\n",
    "        # Calculate range, median, mean, and standard deviation\n",
    "        col_range = get_range(df[column])\n",
    "        col_median = df[column].median()\n",
    "        col_mean = df[column].mean()\n",
    "        col_std = df[column].std()\n",
    "\n",
    "        # Print results\n",
    "        print(f\"Column: {column}\")\n",
    "        print(f\"Range: {col_range}\")\n",
    "        print(f\"Median: {col_median}\")\n",
    "        print(f\"Mean: {col_mean}\")\n",
    "        print(f\"Standard Deviation: {col_std}\")\n",
    "        print()"
   ]
  },
  {
   "cell_type": "code",
   "execution_count": null,
   "metadata": {
    "colab": {
     "base_uri": "https://localhost:8080/",
     "height": 1000
    },
    "id": "YO1XIYNyLp4x",
    "outputId": "81381e75-f409-44bb-a7ad-f048292c545e"
   },
   "outputs": [],
   "source": [
    "# check for duplicates\n",
    "df.head(100)"
   ]
  },
  {
   "cell_type": "code",
   "execution_count": null,
   "metadata": {
    "colab": {
     "base_uri": "https://localhost:8080/",
     "height": 358
    },
    "id": "aSHWrNcTM351",
    "outputId": "b999eee5-bcd6-476d-e8c4-3d191de7cfee"
   },
   "outputs": [],
   "source": [
    "# determine pearson correlation coefficients\n",
    "df.corr()"
   ]
  },
  {
   "cell_type": "code",
   "execution_count": null,
   "metadata": {
    "colab": {
     "base_uri": "https://localhost:8080/",
     "height": 1000
    },
    "id": "T-1meTtyNRvo",
    "outputId": "89352526-9a19-43af-a4f9-2dbddfcab1c0"
   },
   "outputs": [],
   "source": [
    "# going to factor for population, then run correlation\n",
    "pops = pd.read_excel('nst-est2019-01.xlsx', header=0)\n",
    "pops.head(100)"
   ]
  },
  {
   "cell_type": "code",
   "execution_count": null,
   "metadata": {
    "colab": {
     "base_uri": "https://localhost:8080/",
     "height": 363
    },
    "id": "wMfXPAXlObah",
    "outputId": "f401d5f2-88d5-436a-c3ed-086473e04d32"
   },
   "outputs": [],
   "source": [
    "# merge df and pops\n",
    "df_pops = pd.merge(df, pops, on='State')\n",
    "df_pops.head(10)"
   ]
  },
  {
   "cell_type": "code",
   "execution_count": null,
   "metadata": {
    "id": "_72JLKRxQG4Q"
   },
   "outputs": [],
   "source": [
    "# add rows to account for population\n",
    "df_pops['Accidents_2018_proportion'] = df_pops['Accidents_2018'] / df_pops['Population']\n",
    "df_pops['Accidents_2019_proportion'] = df_pops['Accidents_2019'] / df_pops['Population']\n",
    "df_pops['Accidents_2020_proportion'] = df_pops['Accidents_2020'] / df_pops['Population']\n",
    "df_pops['Current_smokers_proportion'] = df_pops['Current_smokers'] / df_pops['Population']\n",
    "df_pops['number_of_veterans_proportion'] = df_pops['number_of_veterans'] / df_pops['Population']"
   ]
  },
  {
   "cell_type": "code",
   "execution_count": null,
   "metadata": {
    "colab": {
     "base_uri": "https://localhost:8080/",
     "height": 270
    },
    "id": "zXHJvTBOQcdu",
    "outputId": "774382aa-ff7b-4339-e375-0ea77da8337a"
   },
   "outputs": [],
   "source": [
    "df_pops.head()"
   ]
  },
  {
   "cell_type": "code",
   "execution_count": null,
   "metadata": {
    "id": "q3Zy4HOMQe2e"
   },
   "outputs": [],
   "source": [
    "# remove non-proportion columns\n",
    "df_proportion = df_pops.drop(columns=['Accidents_2018', 'Accidents_2019', 'Accidents_2020', 'Current_smokers', 'number_of_veterans'])"
   ]
  },
  {
   "cell_type": "code",
   "execution_count": null,
   "metadata": {
    "colab": {
     "base_uri": "https://localhost:8080/",
     "height": 358
    },
    "id": "760T_k9SRQ1F",
    "outputId": "43706305-c5c3-42e2-ca39-a0aa70799542"
   },
   "outputs": [],
   "source": [
    "# now run pearson correlation coeff\n",
    "df.corr()"
   ]
  },
  {
   "cell_type": "code",
   "execution_count": null,
   "metadata": {
    "id": "wFDgIEnnRXPM"
   },
   "outputs": [],
   "source": [
    "# import packages\n",
    "import numpy as np\n",
    "from scipy.optimize import curve_fit"
   ]
  },
  {
   "cell_type": "code",
   "execution_count": null,
   "metadata": {
    "colab": {
     "base_uri": "https://localhost:8080/"
    },
    "id": "78biOD3iSleo",
    "outputId": "1c14b643-0a67-441d-baca-e7753d23241f"
   },
   "outputs": [],
   "source": [
    "# Define linear, quadratic, and cubic functions\n",
    "def linear(x, a, b):\n",
    "    return a * x + b\n",
    "\n",
    "def quadratic(x, a, b, c):\n",
    "    return a * x**2 + b * x + c\n",
    "\n",
    "def cubic(x, a, b, c, d):\n",
    "    return a * x**3 + b * x**2 + c * x + d\n",
    "\n",
    "# Fit the functions to the data\n",
    "x_data = df['Accidents_2018'].values\n",
    "y_data = df['Current_smokers'].values\n",
    "\n",
    "linear_params, linear_covariance = curve_fit(linear, x_data, y_data)\n",
    "quadratic_params, quadratic_covariance = curve_fit(quadratic, x_data, y_data)\n",
    "cubic_params, cubic_covariance = curve_fit(cubic, x_data, y_data)\n",
    "\n",
    "# Calculate the R-squared values\n",
    "y_linear = linear(x_data, *linear_params)\n",
    "y_quadratic = quadratic(x_data, *quadratic_params)\n",
    "y_cubic = cubic(x_data, *cubic_params)\n",
    "\n",
    "linear_r_squared = np.corrcoef(y_data, y_linear)[0, 1]**2\n",
    "quadratic_r_squared = np.corrcoef(y_data, y_quadratic)[0, 1]**2\n",
    "cubic_r_squared = np.corrcoef(y_data, y_cubic)[0, 1]**2\n",
    "\n",
    "# Print the R-squared values\n",
    "print(f\"Accidents_2018 & current_smokers\")\n",
    "print(f\"Linear R-squared: {linear_r_squared}\")\n",
    "print(f\"Quadratic R-squared: {quadratic_r_squared}\")\n",
    "print(f\"Cubic R-squared: {cubic_r_squared}\")"
   ]
  },
  {
   "cell_type": "code",
   "execution_count": null,
   "metadata": {
    "colab": {
     "base_uri": "https://localhost:8080/"
    },
    "id": "7U41OY34StUR",
    "outputId": "9043e136-c36f-4597-9aa1-8b5da65fb058"
   },
   "outputs": [],
   "source": [
    "# Fit the functions to the data\n",
    "x_data = df['Accidents_2018'].values\n",
    "y_data = df['number_of_veterans'].values\n",
    "\n",
    "linear_params, linear_covariance = curve_fit(linear, x_data, y_data)\n",
    "quadratic_params, quadratic_covariance = curve_fit(quadratic, x_data, y_data)\n",
    "cubic_params, cubic_covariance = curve_fit(cubic, x_data, y_data)\n",
    "\n",
    "# Calculate the R-squared values\n",
    "y_linear = linear(x_data, *linear_params)\n",
    "y_quadratic = quadratic(x_data, *quadratic_params)\n",
    "y_cubic = cubic(x_data, *cubic_params)\n",
    "\n",
    "linear_r_squared = np.corrcoef(y_data, y_linear)[0, 1]**2\n",
    "quadratic_r_squared = np.corrcoef(y_data, y_quadratic)[0, 1]**2\n",
    "cubic_r_squared = np.corrcoef(y_data, y_cubic)[0, 1]**2\n",
    "\n",
    "# Print the R-squared values\n",
    "print(f\"Accidents_2018 & number_of_veterans\")\n",
    "print(f\"Linear R-squared: {linear_r_squared}\")\n",
    "print(f\"Quadratic R-squared: {quadratic_r_squared}\")\n",
    "print(f\"Cubic R-squared: {cubic_r_squared}\")"
   ]
  },
  {
   "cell_type": "code",
   "execution_count": null,
   "metadata": {
    "colab": {
     "base_uri": "https://localhost:8080/",
     "height": 270
    },
    "id": "CAwr3EvuYCkX",
    "outputId": "13535f0b-a65c-47f1-a77c-f62f702ff4a1"
   },
   "outputs": [],
   "source": [
    "# Visuals\n",
    "full_dataframe = df_pops\n",
    "\n",
    "full_dataframe.head()"
   ]
  },
  {
   "cell_type": "code",
   "execution_count": null,
   "metadata": {
    "colab": {
     "base_uri": "https://localhost:8080/",
     "height": 270
    },
    "id": "MBIdkkOwZYOC",
    "outputId": "bb6d3a2a-b5ab-4f02-9e5e-9c3d24972570"
   },
   "outputs": [],
   "source": [
    "#preparing data for analysis\n",
    "\n",
    "full_dataframe['Proportion_diabetic'] = full_dataframe['Percentage_diabetic'] / 100\n",
    "\n",
    "full_dataframe.head()"
   ]
  },
  {
   "cell_type": "code",
   "execution_count": null,
   "metadata": {
    "colab": {
     "base_uri": "https://localhost:8080/",
     "height": 270
    },
    "id": "O_dX_QJFb8w_",
    "outputId": "048c0f03-813b-40b4-9b16-a9da8c89da83"
   },
   "outputs": [],
   "source": [
    "proportion_columns = ['State', 'Accidents_2018_proportion', 'Accidents_2019_proportion', 'Accidents_2020_proportion',\n",
    "                      'Current_smokers_proportion', 'number_of_veterans_proportion', 'Proportion_diabetic']\n",
    "\n",
    "df_proportions = full_dataframe[proportion_columns]\n",
    "\n",
    "# Display the new DataFrame\n",
    "df_proportions.head()"
   ]
  },
  {
   "cell_type": "code",
   "execution_count": null,
   "metadata": {
    "colab": {
     "base_uri": "https://localhost:8080/",
     "height": 270
    },
    "id": "bTpWaF_DZ9Cu",
    "outputId": "12645e2e-e782-4507-821c-2967f76f3a79"
   },
   "outputs": [],
   "source": [
    "#employing min-max scaling to give all the proportions scores\n",
    "from sklearn.preprocessing import MinMaxScaler\n",
    "\n",
    "scaler = MinMaxScaler()\n",
    "\n",
    "# Select the columns to be scaled excluding 'State' \n",
    "columns_to_scale = [col for col in df_proportions.columns if col != 'State']\n",
    "\n",
    "# Apply Min-Max scaling to the selected columns\n",
    "scaled_data = scaler.fit_transform(df_proportions[columns_to_scale])\n",
    "\n",
    "# Create a new df with the scaled data and the same column names excluding 'State'\n",
    "df_scaled_values = pd.DataFrame(scaled_data, columns=columns_to_scale)\n",
    "\n",
    "# Add the 'State' column back to the new df\n",
    "df_scaled = pd.concat([df['State'], df_scaled_values], axis=1)\n",
    "\n",
    "# Display\n",
    "df_scaled.head()"
   ]
  },
  {
   "cell_type": "code",
   "execution_count": null,
   "metadata": {
    "colab": {
     "base_uri": "https://localhost:8080/",
     "height": 270
    },
    "id": "7ZCuYI4xdHeG",
    "outputId": "e27f2133-352a-4353-b6cc-c94136d03de4"
   },
   "outputs": [],
   "source": [
    "#Here I want to assign weights based on predictive capabilities: according to my research\n",
    "#Car accidents account for 39% of amputations, Diabetic rates 25%, Smokers 12% and Veterans 7%, other unknown factors are the rest\n",
    "\n",
    "# Create a list of weights \n",
    "# one weight for each column in df\n",
    "weights = [0.13, 0.13, 0.13, 0.12, 0.07, 0.25]\n",
    "\n",
    "weights_dict = {col: weight for col, weight in zip(df_scaled.columns[1:], weights)}\n",
    "\n",
    "# Multiply each column except 'State' in the df by its corresponding weight\n",
    "df_weighted = df_scaled.copy()\n",
    "for col, weight in weights_dict.items():\n",
    "    df_weighted[col] = df_scaled[col] * weight\n",
    "\n",
    "# Display the weighted df\n",
    "df_weighted.head()"
   ]
  },
  {
   "cell_type": "code",
   "execution_count": null,
   "metadata": {
    "colab": {
     "base_uri": "https://localhost:8080/",
     "height": 270
    },
    "id": "PVA1d5AFivOl",
    "outputId": "df885759-bc0c-4b03-818c-c6c92040a52c"
   },
   "outputs": [],
   "source": [
    "# create a total risk score for amputations and demand score for prosthetics\n",
    "# Compute the total score for each row by summing the values across columns excluding the 'State' column\n",
    "df_weighted['total_score'] = df_weighted.drop('State', axis=1).sum(axis=1)\n",
    "\n",
    "# Display the updated df with the 'total_score' column\n",
    "df_weighted.head()"
   ]
  },
  {
   "cell_type": "code",
   "execution_count": null,
   "metadata": {
    "colab": {
     "base_uri": "https://localhost:8080/",
     "height": 270
    },
    "id": "GDo9bBCclc4u",
    "outputId": "2dd891b5-7b96-418d-c46d-e31177631227"
   },
   "outputs": [],
   "source": [
    "#Scale the risk score\n",
    "scaler = MinMaxScaler(feature_range=(0, 10))\n",
    "\n",
    "# Reshape the 'total_score' column to a 2D array and apply Min-Max scaling\n",
    "scaled_total_score = scaler.fit_transform(df_weighted[['total_score']])\n",
    "\n",
    "# Replace the 'total_score' column with the scaled data\n",
    "df_weighted['total_score'] = scaled_total_score\n",
    "\n",
    "# Display the updated df with the scaled 'total_score' column\n",
    "df_weighted.head()"
   ]
  },
  {
   "cell_type": "code",
   "execution_count": null,
   "metadata": {
    "id": "cz0DZ5zDlvDr"
   },
   "outputs": [],
   "source": [
    "# plotly map\n",
    "import plotly.express as px\n",
    "import plotly.graph_objects as go"
   ]
  },
  {
   "cell_type": "code",
   "execution_count": null,
   "metadata": {
    "colab": {
     "base_uri": "https://localhost:8080/"
    },
    "id": "wZj9BDGaHjOk",
    "outputId": "c9800106-3eea-4e32-d412-70e7dad48297"
   },
   "outputs": [],
   "source": [
    "!pip install plotly-orca\n",
    "!pip install \"notebook>=5.3\" \"ipywidgets>=7.2\""
   ]
  },
  {
   "cell_type": "code",
   "execution_count": null,
   "metadata": {
    "colab": {
     "base_uri": "https://localhost:8080/"
    },
    "id": "i-LjSkqbrQpA",
    "outputId": "5c0d45f4-635f-468f-bc72-6edebdc5654d"
   },
   "outputs": [],
   "source": [
    "!pip install kaleido"
   ]
  },
  {
   "cell_type": "code",
   "execution_count": null,
   "metadata": {
    "id": "w3w0y1CWsrVY"
   },
   "outputs": [],
   "source": [
    "import plotly.io as pio"
   ]
  },
  {
   "cell_type": "code",
   "execution_count": null,
   "metadata": {
    "colab": {
     "base_uri": "https://localhost:8080/",
     "height": 542
    },
    "id": "QQ6IReMjmPMt",
    "outputId": "adfb519b-8896-4b4a-b0dc-d27c78b01c63"
   },
   "outputs": [],
   "source": [
    "# Dictionary to map full state names to abbreviations\n",
    "state_abbr = {\n",
    "    'Alabama': 'AL', 'Alaska': 'AK', 'Arizona': 'AZ', 'Arkansas': 'AR', 'California': 'CA', 'Colorado': 'CO',\n",
    "    'Connecticut': 'CT', 'Delaware': 'DE', 'Florida': 'FL', 'Georgia': 'GA', 'Hawaii': 'HI', 'Idaho': 'ID',\n",
    "    'Illinois': 'IL', 'Indiana': 'IN', 'Iowa': 'IA', 'Kansas': 'KS', 'Kentucky': 'KY', 'Louisiana': 'LA',\n",
    "    'Maine': 'ME', 'Maryland': 'MD', 'Massachusetts': 'MA', 'Michigan': 'MI', 'Minnesota': 'MN', 'Mississippi': 'MS',\n",
    "    'Missouri': 'MO', 'Montana': 'MT', 'Nebraska': 'NE', 'Nevada': 'NV', 'New Hampshire': 'NH', 'New Jersey': 'NJ',\n",
    "    'New Mexico': 'NM', 'New York': 'NY', 'North Carolina': 'NC', 'North Dakota': 'ND', 'Ohio': 'OH', 'Oklahoma': 'OK',\n",
    "    'Oregon': 'OR', 'Pennsylvania': 'PA', 'Rhode Island': 'RI', 'South Carolina': 'SC', 'South Dakota': 'SD',\n",
    "    'Tennessee': 'TN', 'Texas': 'TX', 'Utah': 'UT', 'Vermont': 'VT', 'Virginia': 'VA', 'Washington': 'WA',\n",
    "    'West Virginia': 'WV', 'Wisconsin': 'WI', 'Wyoming': 'WY'\n",
    "}\n",
    "\n",
    "# Convert full state names to abbreviations\n",
    "df_weighted['State'] = df_weighted['State'].map(state_abbr)\n",
    "\n",
    "# Create a choropleth map using Plotly Express\n",
    "fig = px.choropleth(df_weighted, \n",
    "                    locations='State', \n",
    "                    locationmode='USA-states', \n",
    "                    color='total_score', \n",
    "                    scope='usa', \n",
    "                    color_continuous_scale='Viridis', \n",
    "                    labels={'total_score': 'Demand Score'},\n",
    "                    title='Demand by State')\n",
    "\n",
    "fig.show()"
   ]
  },
  {
   "cell_type": "code",
   "execution_count": null,
   "metadata": {
    "id": "urvb4Pfprtmu"
   },
   "outputs": [],
   "source": [
    "#fig.write_html(\"visual_two.html\")\n",
    "#pio.write_image(fig, \"visual_two.png\", format='png', engine='kaleido')"
   ]
  },
  {
   "cell_type": "code",
   "execution_count": null,
   "metadata": {
    "colab": {
     "base_uri": "https://localhost:8080/",
     "height": 542
    },
    "id": "W8YZ3i3Xqkfn",
    "outputId": "aeda674a-e8d9-4ef0-fb03-48e1494eddc0"
   },
   "outputs": [],
   "source": [
    "# List of columns to plot excluding 'State' and 'total_score'\n",
    "columns_to_plot = [col for col in df_weighted.columns if col not in ['State', 'total_score']]\n",
    "\n",
    "# Create a Choropleth trace for each column\n",
    "traces = [go.Choropleth(\n",
    "    locations=df_weighted['State'],\n",
    "    z=df_weighted[col],\n",
    "    locationmode='USA-states',\n",
    "    colorscale='Viridis',\n",
    "    visible=False,\n",
    "    name=col,\n",
    "    showscale=True, \n",
    "    hovertemplate=f\"{col}: %{col}<extra></extra>\"\n",
    ") for col in columns_to_plot]\n",
    "\n",
    "# Create a Figure with the Choropleth traces\n",
    "fig = go.Figure(data=traces)\n",
    "\n",
    "# Set the layout to display the map of the USA and add a title\n",
    "fig.update_layout(\n",
    "    title='Choropleth Map of Columns',\n",
    "    geo=dict(scope='usa', projection=dict(type='albers usa')),\n",
    "    margin=dict(l=0, r=0, b=0, t=30)\n",
    ")\n",
    "\n",
    "# Add a checkbox updatemenu to control the visibility of each trace\n",
    "fig.update_layout(\n",
    "    updatemenus=[\n",
    "        dict(\n",
    "            type='buttons',\n",
    "            showactive=True,\n",
    "            buttons=[dict(label=col,\n",
    "                          method='update',\n",
    "                          args=[{'visible': [col == trace.name for trace in traces], \n",
    "                                 'showscale': [True for _ in traces]  \n",
    "                                 }])\n",
    "                     for col in columns_to_plot]\n",
    "        )\n",
    "    ]\n",
    ")\n",
    "\n",
    "fig.show()"
   ]
  },
  {
   "cell_type": "code",
   "execution_count": null,
   "metadata": {
    "id": "Ja2ozxa6vDRc"
   },
   "outputs": [],
   "source": [
    "df_pops = df_pops.reset_index()"
   ]
  },
  {
   "cell_type": "code",
   "execution_count": null,
   "metadata": {
    "colab": {
     "base_uri": "https://localhost:8080/",
     "height": 206
    },
    "id": "MJ_kfJQqRf09",
    "outputId": "7b33e357-0bb5-4623-cde1-60066aadd1f4"
   },
   "outputs": [],
   "source": [
    "# get data by year\n",
    "df_pops.head()\n",
    "accidents = df_pops[[\"State\", \"Accidents_2018_proportion\", \"Accidents_2019_proportion\", \"Accidents_2020_proportion\"]]\n",
    "accidents.head()\n",
    "\n",
    "# Select the columns to be scaled excluding the 'State' column\n",
    "columns_to_scale = [col for col in accidents.columns if col != 'State']\n",
    "\n",
    "# Apply Min-Max scaling to the selected columns\n",
    "scaled_data = scaler.fit_transform(accidents[columns_to_scale])\n",
    "\n",
    "# Create a new df with the scaled data and the same column names excluding 'State'\n",
    "df_scaled_values = pd.DataFrame(scaled_data, columns=columns_to_scale)\n",
    "\n",
    "# Add the 'State' column back to the new DataFrame\n",
    "df_scaled = pd.concat([df['State'], df_scaled_values], axis=1)\n",
    "\n",
    "# Display the scaled df\n",
    "df_scaled.head()\n",
    "\n",
    "accidents_scaled = df_scaled\n",
    "accidents_scaled\n",
    "\n",
    "newcolnames = {'Accidents_2018_proportion': '2018', 'Accidents_2019_proportion': '2019', 'Accidents_2020_proportion': '2020'}\n",
    "accidents_scaled = accidents_scaled.rename(columns=newcolnames)\n",
    "accidents_scaled.head()\n",
    "\n",
    "accidents_scaled[\"change\"] = accidents_scaled[\"2020\"] - accidents_scaled[\"2018\"]\n",
    "acc = accidents_scaled\n",
    "acc.head()"
   ]
  },
  {
   "cell_type": "code",
   "execution_count": null,
   "metadata": {
    "id": "LA5VHDKyTrsW"
   },
   "outputs": [],
   "source": [
    "import altair as alt\n",
    "from vega_datasets import data\n",
    "\n",
    "# Load US States GeoJSON data\n",
    "us_states = alt.topo_feature(data.us_10m.url, 'states')"
   ]
  },
  {
   "cell_type": "code",
   "execution_count": null,
   "metadata": {
    "id": "owI9gbFYeslb"
   },
   "outputs": [],
   "source": [
    "# Dictionary to map state abbreviations to FIPS codes\n",
    "state_name_to_fips = {\n",
    "    'Alabama': '1',\n",
    "    'Alaska': '2',\n",
    "    'Arizona': '4',\n",
    "    'Arkansas': '5',\n",
    "    'California': '6',\n",
    "    'Colorado': '8',\n",
    "    'Connecticut': '9',\n",
    "    'Delaware': '10',\n",
    "    'Florida': '12',\n",
    "    'Georgia': '13',\n",
    "    'Hawaii': '15',\n",
    "    'Idaho': '16',\n",
    "    'Illinois': '17',\n",
    "    'Indiana': '18',\n",
    "    'Iowa': '19',\n",
    "    'Kansas': '20',\n",
    "    'Kentucky': '21',\n",
    "    'Louisiana': '22',\n",
    "    'Maine': '23',\n",
    "    'Maryland': '24',\n",
    "    'Massachusetts': '25',\n",
    "    'Michigan': '26',\n",
    "    'Minnesota': '27',\n",
    "    'Mississippi': '28',\n",
    "    'Missouri': '29',\n",
    "    'Montana': '30',\n",
    "    'Nebraska': '31',\n",
    "    'Nevada': '32',\n",
    "    'New Hampshire': '33',\n",
    "    'New Jersey': '34',\n",
    "    'New Mexico': '35',\n",
    "    'New York': '36',\n",
    "    'North Carolina': '37',\n",
    "    'North Dakota': '38',\n",
    "    'Ohio': '39',\n",
    "    'Oklahoma': '40',\n",
    "    'Oregon': '41',\n",
    "    'Pennsylvania': '42',\n",
    "    'Rhode Island': '44',\n",
    "    'South Carolina': '45',\n",
    "    'South Dakota': '46',\n",
    "    'Tennessee': '47',\n",
    "    'Texas': '48',\n",
    "    'Utah': '49',\n",
    "    'Vermont': '50',\n",
    "    'Virginia': '51',\n",
    "    'Washington': '53',\n",
    "    'West Virginia': '54',\n",
    "    'Wisconsin': '55',\n",
    "    'Wyoming': '56'\n",
    "}\n",
    "\n",
    "acc['id'] = acc['State'].map(state_name_to_fips)\n",
    "acc['Accidents'] = acc['change']\n",
    "\n",
    "state_data = acc"
   ]
  },
  {
   "cell_type": "code",
   "execution_count": null,
   "metadata": {
    "colab": {
     "base_uri": "https://localhost:8080/",
     "height": 448
    },
    "id": "WsF6_Wl5dE_d",
    "outputId": "91413d2c-b482-4e36-8fd1-78f13fb15b35"
   },
   "outputs": [],
   "source": [
    "# Define the color scale for the choropleth map\n",
    "color_scale = alt.Scale(scheme='viridis', domain=[state_data['Accidents'].min(), state_data['Accidents'].max()])\n",
    "\n",
    "# Create the choropleth map\n",
    "choropleth_map = alt.Chart(us_states).mark_geoshape().encode(\n",
    "    alt.Color('Accidents:Q', scale=color_scale, legend=alt.Legend(title='Accidents')),\n",
    "    tooltip=['Accidents:Q']\n",
    ").transform_lookup(\n",
    "    lookup='id',\n",
    "    from_=alt.LookupData(state_data, 'id', ['Accidents'])\n",
    ").project(\n",
    "    type='albersUsa'\n",
    ").properties(\n",
    "    width=700,\n",
    "    height=400,\n",
    "    title='Increase in Accidents from 2018 to 2020'\n",
    ")\n",
    "\n",
    "choropleth_map.display()"
   ]
  },
  {
   "cell_type": "code",
   "execution_count": null,
   "metadata": {
    "id": "yTaE8WTCwWs1"
   },
   "outputs": [],
   "source": [
    "choropleth_map.save(\"visual_three.html\")\n",
    "\n",
    "# Install altair_saver\n",
    "#!pip install altair_saver\n",
    "\n",
    "# Import altair_saver\n",
    "#import altair_saver\n",
    "\n",
    "# Save the chart as a PNG\n",
    "#altair_saver.save(choropleth_map, \"visual_three.png\")"
   ]
  },
  {
   "cell_type": "code",
   "execution_count": null,
   "metadata": {
    "colab": {
     "base_uri": "https://localhost:8080/",
     "height": 206
    },
    "id": "Y1BEgD_neFa0",
    "outputId": "19d0bb94-1b83-4825-d473-5e79d15eef70"
   },
   "outputs": [],
   "source": [
    "# finding supply side data\n",
    "\n",
    "# Read the Excel file\n",
    "file_path = 'ProsthOrth_Data.xlsx'\n",
    "supply_df = pd.read_excel(file_path, skiprows=5, nrows=48)\n",
    "\n",
    "supply_df.head()"
   ]
  },
  {
   "cell_type": "code",
   "execution_count": null,
   "metadata": {
    "colab": {
     "base_uri": "https://localhost:8080/",
     "height": 206
    },
    "id": "JGB4bVZmgB5s",
    "outputId": "d181aea6-fe73-47de-a72e-290c1053e7a2"
   },
   "outputs": [],
   "source": [
    "# wrangling\n",
    "\n",
    "supply_df = supply_df.rename(columns={'Area Name': 'State'})\n",
    "\n",
    "supply_df.head()"
   ]
  },
  {
   "cell_type": "code",
   "execution_count": null,
   "metadata": {
    "colab": {
     "base_uri": "https://localhost:8080/",
     "height": 206
    },
    "id": "SXKZzP8wgDXf",
    "outputId": "d9ac8245-2abd-44db-ef04-bfb17ccc84fe"
   },
   "outputs": [],
   "source": [
    "# clean the data of any state values that are blank or list them as 0(?)\n",
    "\n",
    "# List of states to drop\n",
    "states_to_drop = ['Alaska', 'Colorado', 'Delaware', 'Vermont', 'Wisconsin', 'District of Columbia']\n",
    "\n",
    "# Remove rows containing the specified states\n",
    "cleaned_supply_df = supply_df[~supply_df['State'].isin(states_to_drop)]\n",
    "\n",
    "# Reset the index after removing the rows\n",
    "cleaned_supply_df.reset_index(drop=True, inplace=True)\n",
    "\n",
    "# Display the cleaned dataframe\n",
    "# print(cleaned_supply_df)\n",
    "\n",
    "# rename columns\n",
    "\n",
    "# Rename the 'Employment(1)' column\n",
    "cleaned_supply_df = cleaned_supply_df.rename(columns={'Employment(1)': 'Number of Prosthetists'})\n",
    "\n",
    "# Display the updated dataframe\n",
    "cleaned_supply_df.head()"
   ]
  },
  {
   "cell_type": "code",
   "execution_count": null,
   "metadata": {
    "id": "YXHkQEnVTvRj"
   },
   "outputs": [],
   "source": [
    "# scale these values by population\n",
    "\n",
    "cleaned_supply_df = cleaned_supply_df.merge(pops, on='State')"
   ]
  },
  {
   "cell_type": "code",
   "execution_count": null,
   "metadata": {
    "colab": {
     "base_uri": "https://localhost:8080/",
     "height": 206
    },
    "id": "YSEHz6CXT6ys",
    "outputId": "a2cf6a4a-0881-42a4-8026-4a4eb05b811f"
   },
   "outputs": [],
   "source": [
    "cleaned_supply_df.head()"
   ]
  },
  {
   "cell_type": "code",
   "execution_count": null,
   "metadata": {
    "colab": {
     "base_uri": "https://localhost:8080/",
     "height": 206
    },
    "id": "mzf9Jg9IT8nP",
    "outputId": "288ed3e5-bcec-4e7b-9b6c-1b1081b94c8e"
   },
   "outputs": [],
   "source": [
    "#now add a column to find the prosthetists by capita\n",
    "\n",
    "cleaned_supply_df['Number of Prosthetists'] = pd.to_numeric(cleaned_supply_df['Number of Prosthetists'], errors='coerce')\n",
    "cleaned_supply_df['Population'] = pd.to_numeric(cleaned_supply_df['Population'], errors='coerce')\n",
    "\n",
    "# Calculate the 'prosthetists per capita' column\n",
    "cleaned_supply_df['prosthetists per capita'] = cleaned_supply_df['Number of Prosthetists'] / cleaned_supply_df['Population']\n",
    "\n",
    "# Display the updated df\n",
    "cleaned_supply_df.head()"
   ]
  },
  {
   "cell_type": "code",
   "execution_count": null,
   "metadata": {
    "id": "Y1Xlh0HMUAU7"
   },
   "outputs": [],
   "source": [
    "#min max scale\n",
    "\n",
    "scaler = MinMaxScaler(feature_range=(0, 10))\n",
    "\n",
    "# Scale the 'prosthetists per capita' column using the scaler and create the 'Supply Score' column with the scaled values\n",
    "cleaned_supply_df['Supply Score'] = scaler.fit_transform(cleaned_supply_df[['prosthetists per capita']])"
   ]
  },
  {
   "cell_type": "code",
   "execution_count": null,
   "metadata": {
    "colab": {
     "base_uri": "https://localhost:8080/",
     "height": 206
    },
    "id": "ObdyhImIUC6m",
    "outputId": "58a89bff-451b-46bf-d342-a591e13dd7af"
   },
   "outputs": [],
   "source": [
    "cleaned_supply_df.head()"
   ]
  },
  {
   "cell_type": "code",
   "execution_count": null,
   "metadata": {
    "colab": {
     "base_uri": "https://localhost:8080/"
    },
    "id": "SZPFZ69vUE7r",
    "outputId": "f1361283-d882-43e3-b4e2-e0673558ef20"
   },
   "outputs": [],
   "source": [
    "!pip install geopandas matplotlib"
   ]
  },
  {
   "cell_type": "code",
   "execution_count": null,
   "metadata": {
    "colab": {
     "base_uri": "https://localhost:8080/",
     "height": 542
    },
    "id": "rFQXZZRTUG-i",
    "outputId": "91b7b00a-5f14-4cdd-8d5e-315d9d0ade51"
   },
   "outputs": [],
   "source": [
    "# Convert full state names to abbreviations\n",
    "cleaned_supply_df['State'] = cleaned_supply_df['State'].map(state_abbr)\n",
    "\n",
    "# Create a choropleth map using Plotly Express\n",
    "fig = px.choropleth(cleaned_supply_df, \n",
    "                    locations='State', \n",
    "                    locationmode='USA-states', \n",
    "                    color='Supply Score', \n",
    "                    scope='usa', \n",
    "                    color_continuous_scale='Viridis', \n",
    "                    labels={'Supply Score': 'Supply Score'},\n",
    "                    title='Supply Scores by State')\n",
    "\n",
    "# Show the plot\n",
    "fig.show()\n",
    "# 10 = lots of prostethists"
   ]
  },
  {
   "cell_type": "code",
   "execution_count": null,
   "metadata": {
    "id": "YZ4-vV8Zyy6K"
   },
   "outputs": [],
   "source": [
    "# fig.write_html(\"visual_four.html\")\n",
    "# pio.write_image(fig, \"visual_four.png\", format='png', engine='kaleido')"
   ]
  },
  {
   "cell_type": "code",
   "execution_count": null,
   "metadata": {
    "colab": {
     "base_uri": "https://localhost:8080/",
     "height": 206
    },
    "id": "UL1xZ_-BUM75",
    "outputId": "cc909301-2e9f-4796-a3d6-724f59c79e30"
   },
   "outputs": [],
   "source": [
    "cleaned_supply_df.head()"
   ]
  },
  {
   "cell_type": "code",
   "execution_count": null,
   "metadata": {
    "colab": {
     "base_uri": "https://localhost:8080/",
     "height": 270
    },
    "id": "cBeCcyDEUP2G",
    "outputId": "dd5eac16-34e5-4973-80be-a0414295f43d"
   },
   "outputs": [],
   "source": [
    "df_weighted.head()"
   ]
  },
  {
   "cell_type": "code",
   "execution_count": null,
   "metadata": {
    "colab": {
     "base_uri": "https://localhost:8080/",
     "height": 340
    },
    "id": "ugtFkOwXURZp",
    "outputId": "76add13c-b58b-411b-a7c9-2335e62834fb"
   },
   "outputs": [],
   "source": [
    "# create a df that has supply and demand scores so we can compare/contrast them\n",
    "\n",
    "# Merge the df on the \"State\" column\n",
    "SupplyVSDemand_df = pd.merge(df_weighted, cleaned_supply_df, on='State')\n",
    "\n",
    "# Display the new df\n",
    "SupplyVSDemand_df.head()"
   ]
  },
  {
   "cell_type": "code",
   "execution_count": null,
   "metadata": {
    "colab": {
     "base_uri": "https://localhost:8080/",
     "height": 340
    },
    "id": "0n53ooUbUTy1",
    "outputId": "fa4bb865-b448-4536-e190-f840f2a8e1a7"
   },
   "outputs": [],
   "source": [
    "#make new column for opportunity zones\n",
    "SupplyVSDemand_df['Opportunity Score'] = SupplyVSDemand_df['total_score'] - SupplyVSDemand_df['Supply Score']\n",
    "\n",
    "# Display the updated df\n",
    "SupplyVSDemand_df.head()"
   ]
  },
  {
   "cell_type": "code",
   "execution_count": null,
   "metadata": {
    "colab": {
     "base_uri": "https://localhost:8080/",
     "height": 542
    },
    "id": "wCUXzAQvUYxq",
    "outputId": "8de5273d-133c-4012-e34d-11d9d6bbe930"
   },
   "outputs": [],
   "source": [
    "# Create a choropleth map using Plotly Express\n",
    "fig = px.choropleth(SupplyVSDemand_df, \n",
    "                    locations='State', \n",
    "                    locationmode='USA-states', \n",
    "                    color='Opportunity Score', \n",
    "                    scope='usa', \n",
    "                    color_continuous_scale='Viridis', \n",
    "                    labels={'Opportunity Score': 'Opportunity Score'},\n",
    "                    title='Opportunity Scores by State')\n",
    "\n",
    "# Show the plot\n",
    "fig.show()"
   ]
  },
  {
   "cell_type": "code",
   "execution_count": null,
   "metadata": {
    "id": "6CqhVZxdUbKM"
   },
   "outputs": [],
   "source": [
    "# fig.write_html(\"visual_six.html\")\n",
    "# pio.write_image(fig, \"visual_six.png\", format='png', engine='kaleido')"
   ]
  },
  {
   "cell_type": "code",
   "execution_count": null,
   "metadata": {
    "colab": {
     "base_uri": "https://localhost:8080/",
     "height": 206
    },
    "id": "uNZQZdmOIAF0",
    "outputId": "34bb5660-fbc7-47f2-dd15-ebb8139de457"
   },
   "outputs": [],
   "source": [
    "# Make a chart of accidents\n",
    "df.head()\n",
    "df_accidents = df[['State','Accidents_2018', 'Accidents_2019', 'Accidents_2020']]\n",
    "df_accidents.head()\n",
    "df_accidents = df_accidents.rename(columns={'Accidents_2018':2018, 'Accidents_2019':2019, 'Accidents_2020':2020})\n",
    "df_accidents.head()"
   ]
  },
  {
   "cell_type": "code",
   "execution_count": null,
   "metadata": {
    "colab": {
     "base_uri": "https://localhost:8080/",
     "height": 424
    },
    "id": "0fcNefK2IB3g",
    "outputId": "2284c355-ced8-4c2d-9715-0922ccf3a8ff"
   },
   "outputs": [],
   "source": [
    "df_melted = df_accidents.melt(id_vars=['State'], value_vars=[2018, 2019, 2020], var_name='Year', value_name='Value')\n",
    "\n",
    "df_sorted = df_melted.sort_values(\"State\")\n",
    "df_sorted = df_sorted.rename(columns={\"Value\":\"Accidents\"})\n",
    "df_sorted"
   ]
  },
  {
   "cell_type": "code",
   "execution_count": null,
   "metadata": {
    "colab": {
     "base_uri": "https://localhost:8080/",
     "height": 705
    },
    "id": "6PkTFEQSK82F",
    "outputId": "74b17108-26da-4371-fdfa-3114e6eef276"
   },
   "outputs": [],
   "source": [
    "# create a slider input\n",
    "slider = alt.binding_range(min=2018, max=2020, step=1)\n",
    "\n",
    "slider_selection = alt.selection_single(bind=slider, fields=['Year'], name=\"Select\", value=2018)\n",
    "\n",
    "# create a chart\n",
    "car_accidents = alt.Chart(df_sorted).mark_bar().encode(\n",
    "    y=alt.Y('State:N', sort='-x'),\n",
    "    x='Accidents:Q',\n",
    "    color=alt.Color('State:N', legend=None)\n",
    ").properties(\n",
    "    width=500,\n",
    "    height=600,\n",
    "    title='Car Accidents by State (2018-2020)'\n",
    ").add_selection(\n",
    "    slider_selection\n",
    ").transform_filter(\n",
    "    slider_selection\n",
    ")\n",
    "\n",
    "car_accidents"
   ]
  },
  {
   "cell_type": "code",
   "execution_count": null,
   "metadata": {
    "colab": {
     "base_uri": "https://localhost:8080/",
     "height": 206
    },
    "id": "Cktr9cSjQHUS",
    "outputId": "c11dd306-eb97-4b73-83ff-a577f978aba0"
   },
   "outputs": [],
   "source": [
    "# Read in the CSV file\n",
    "df_income = pd.read_csv('incomedata.csv')\n",
    "\n",
    "# Display the first few rows of the dataset\n",
    "df_income.head()"
   ]
  },
  {
   "cell_type": "code",
   "execution_count": null,
   "metadata": {
    "id": "qZQXTZHiQ1Ig"
   },
   "outputs": [],
   "source": [
    "import plotly.io as pio\n",
    "import plotly.express as px"
   ]
  },
  {
   "cell_type": "code",
   "execution_count": null,
   "metadata": {
    "colab": {
     "base_uri": "https://localhost:8080/",
     "height": 542
    },
    "id": "xUqYWSxyUC5r",
    "outputId": "697b08ba-3ce5-4714-f159-df0dbed13add"
   },
   "outputs": [],
   "source": [
    "df_income = pd.read_csv('incomedata.csv')\n",
    "\n",
    "# Remove the row with \"state\" as \"District of Columbia\"\n",
    "df_income = df_income[df_income['state'] != 'District of Columbia']\n",
    "\n",
    "# Convert full state names to abbreviations\n",
    "df_income['state'] = df_income['state'].map(state_abbr)\n",
    "\n",
    "# Create a color map with the income distribution of each state\n",
    "fig = px.choropleth(\n",
    "    df_income,\n",
    "    locations='state',\n",
    "    locationmode='USA-states',\n",
    "    color='HouseholdIncome',\n",
    "    scope='usa',\n",
    "    title='Median Household Income by State',\n",
    "    hover_name='state',\n",
    "    color_continuous_scale= 'Viridis',\n",
    "    labels={'HouseholdIncome': 'Median Household Income'}\n",
    ")\n",
    "\n",
    "# Show the plot\n",
    "fig.show()"
   ]
  },
  {
   "cell_type": "code",
   "execution_count": null,
   "metadata": {
    "colab": {
     "base_uri": "https://localhost:8080/"
    },
    "id": "fvsHL0e7Vun9",
    "outputId": "2db17761-7ba8-4866-9bab-3c248c54ef52"
   },
   "outputs": [],
   "source": [
    "pip install pandas openpyxl"
   ]
  },
  {
   "cell_type": "code",
   "execution_count": null,
   "metadata": {
    "colab": {
     "base_uri": "https://localhost:8080/",
     "height": 254
    },
    "id": "icpQ_O7GVx26",
    "outputId": "a23580f2-6379-466e-a048-91df16dfbb68"
   },
   "outputs": [],
   "source": [
    "# Read the Excel file into a pandas df\n",
    "df = pd.read_excel('MKTPROSDATA.xlsx', engine='openpyxl')\n",
    "\n",
    "# Print the DataFrame to see the data\n",
    "df.head()"
   ]
  },
  {
   "cell_type": "code",
   "execution_count": null,
   "metadata": {
    "id": "Fjl0CdiWV3PE"
   },
   "outputs": [],
   "source": [
    "import plotly.graph_objs as go"
   ]
  },
  {
   "cell_type": "code",
   "execution_count": null,
   "metadata": {
    "colab": {
     "base_uri": "https://localhost:8080/",
     "height": 542
    },
    "id": "zBCHyJO2V6HY",
    "outputId": "8482c2b9-eada-42d8-9448-d2499a0f53b4"
   },
   "outputs": [],
   "source": [
    "# Melt the df to make it suitable for plotting\n",
    "df_melted = df.melt(id_vars='Region', var_name='Year', value_name='Prosthetics Sold')\n",
    "\n",
    "# Create traces for each region\n",
    "traces = []\n",
    "for region in df_melted['Region'].unique():\n",
    "    trace = go.Scatter(\n",
    "        x=df_melted[df_melted['Region'] == region]['Year'],\n",
    "        y=df_melted[df_melted['Region'] == region]['Prosthetics Sold'],\n",
    "        mode='lines+markers',\n",
    "        name=region,\n",
    "        visible=(region == 'U.S') \n",
    "    )\n",
    "    traces.append(trace)\n",
    "\n",
    "# Create a layout with a dropdown menu\n",
    "layout = go.Layout(\n",
    "    title='Projected Prosthetics Sold by Region (2021-2040)',\n",
    "    xaxis={'title': 'Year'},\n",
    "    yaxis={'title': 'Number of Prosthetics Sold'},\n",
    "    updatemenus=[\n",
    "        {\n",
    "            'buttons': [\n",
    "                {\n",
    "                    'label': 'All Regions',\n",
    "                    'method': 'update',\n",
    "                    'args': [\n",
    "                        {'visible': [True, True, True]},\n",
    "                        {'title': 'Projected Prosthetics Sold by Region (2021-2040)'}\n",
    "                    ]\n",
    "                }\n",
    "            ] + [\n",
    "                {\n",
    "                    'label': region,\n",
    "                    'method': 'update',\n",
    "                    'args': [\n",
    "                        {'visible': [region == r for r in df_melted['Region'].unique()]},\n",
    "                        {'title': f'Projected Prosthetics Sold in {region} (2021-2040)'}\n",
    "                    ]\n",
    "                }\n",
    "                for region in df_melted['Region'].unique()\n",
    "            ],\n",
    "            'direction': 'down',\n",
    "            'showactive': True\n",
    "        }\n",
    "    ]\n",
    ")\n",
    "\n",
    "# Create a Figure and show the plot\n",
    "fig = go.Figure(data=traces, layout=layout)\n",
    "fig.show()"
   ]
  },
  {
   "cell_type": "code",
   "execution_count": null,
   "metadata": {
    "colab": {
     "base_uri": "https://localhost:8080/",
     "height": 254
    },
    "id": "DPejQ78EV-oD",
    "outputId": "ce324a6f-5c74-4415-a4f8-5a32aff12440"
   },
   "outputs": [],
   "source": [
    "df2 = pd.read_excel('MKTLIMBLDATA.xlsx', engine='openpyxl')\n",
    "\n",
    "# Print the DataFrame to see the data\n",
    "df2.head()"
   ]
  },
  {
   "cell_type": "code",
   "execution_count": null,
   "metadata": {
    "colab": {
     "base_uri": "https://localhost:8080/",
     "height": 542
    },
    "id": "l59iHftSWF-H",
    "outputId": "7e6b24a2-9fe3-4d51-ed3a-833d2badde44"
   },
   "outputs": [],
   "source": [
    "# Melt the DataFrame to make it suitable for plotting\n",
    "df_melted2 = df2.melt(id_vars='Region', var_name='Year', value_name='Limb Loss')\n",
    "\n",
    "# Create traces for each region\n",
    "traces = []\n",
    "for region in df_melted['Region'].unique():\n",
    "    trace = go.Scatter(\n",
    "        x=df_melted2[df_melted2['Region'] == region]['Year'],\n",
    "        y=df_melted2[df_melted2['Region'] == region]['Limb Loss'],\n",
    "        mode='lines+markers',\n",
    "        name=region,\n",
    "        visible=(region == 'U.S')  # Show only the 'U.S' trace initially\n",
    "    )\n",
    "    traces.append(trace)\n",
    "\n",
    "# Create a layout with a dropdown menu\n",
    "layout = go.Layout(\n",
    "    title='Projected Limb Loss by Region (2021-2040)',\n",
    "    xaxis={'title': 'Year'},\n",
    "    yaxis={'title': 'Limb Loss'},\n",
    "    updatemenus=[\n",
    "        {\n",
    "            'buttons': [\n",
    "                {\n",
    "                    'label': 'All Regions',\n",
    "                    'method': 'update',\n",
    "                    'args': [\n",
    "                        {'visible': [True, True, True]},\n",
    "                        {'title': 'Projected Limb Loss by Region (2021-2040)'}\n",
    "                    ]\n",
    "                }\n",
    "            ] + [\n",
    "                {\n",
    "                    'label': region,\n",
    "                    'method': 'update',\n",
    "                    'args': [\n",
    "                        {'visible': [region == r for r in df_melted2['Region'].unique()]},\n",
    "                        {'title': f'Projected Limb Loss in {region} (2021-2040)'}\n",
    "                    ]\n",
    "                }\n",
    "                for region in df_melted2['Region'].unique()\n",
    "            ],\n",
    "            'direction': 'down',\n",
    "            'showactive': True\n",
    "        }\n",
    "    ]\n",
    ")\n",
    "\n",
    "# Create a Figure and show the plot\n",
    "fig = go.Figure(data=traces, layout=layout)\n",
    "fig.show()"
   ]
  },
  {
   "cell_type": "code",
   "execution_count": null,
   "metadata": {
    "colab": {
     "base_uri": "https://localhost:8080/",
     "height": 542
    },
    "id": "m9M6_BJKWJ8E",
    "outputId": "68824da0-ba61-4050-a4c3-d2d0b4910cb8"
   },
   "outputs": [],
   "source": [
    "df_melted = df.melt(id_vars='Region', var_name='Year', value_name='Prosthetics Sold')\n",
    "df2_melted = df2.melt(id_vars='Region', var_name='Year', value_name='Limb Loss')\n",
    "\n",
    "# Create traces for prosthetics sold\n",
    "prosthetics_traces = []\n",
    "for region in df_melted['Region'].unique():\n",
    "    trace = go.Scatter(\n",
    "        x=df_melted[df_melted['Region'] == region]['Year'],\n",
    "        y=df_melted[df_melted['Region'] == region]['Prosthetics Sold'],\n",
    "        mode='lines+markers',\n",
    "        name=f'Prosthetics Sold ({region})',\n",
    "        marker=dict(symbol='circle'),\n",
    "        visible=(region == 'U.S')  # Show only the 'U.S' trace initially\n",
    "    )\n",
    "    prosthetics_traces.append(trace)\n",
    "\n",
    "# Create traces for limb loss\n",
    "limb_loss_traces = []\n",
    "for region in df2_melted['Region'].unique():\n",
    "    trace = go.Scatter(\n",
    "        x=df2_melted[df2_melted['Region'] == region]['Year'],\n",
    "        y=df2_melted[df2_melted['Region'] == region]['Limb Loss'],\n",
    "        mode='lines+markers',\n",
    "        name=f'Limb Loss ({region})',\n",
    "        marker=dict(symbol='square'),\n",
    "        line=dict(dash='dash'),\n",
    "        visible=False\n",
    "    )\n",
    "    limb_loss_traces.append(trace)\n",
    "\n",
    "# Combine the traces\n",
    "all_traces = prosthetics_traces + limb_loss_traces\n",
    "\n",
    "# Create a layout with a dropdown menu\n",
    "layout = go.Layout(\n",
    "    title='Projected Prosthetics Sold and Limb Loss by Region (2021-2040)',\n",
    "    xaxis={'title': 'Year'},\n",
    "    yaxis={'title': 'Number of Sold/Needed'},\n",
    "    updatemenus=[\n",
    "        {\n",
    "            'buttons': [\n",
    "                {\n",
    "                    'label': 'All Regions',\n",
    "                    'method': 'update',\n",
    "                    'args': [\n",
    "                        {'visible': [True, True, True] * 2},\n",
    "                        {'title': 'Projected Prosthetics Sold and Limb Loss by Region (2021-2040)'}\n",
    "                    ]\n",
    "                }\n",
    "            ] + [\n",
    "                {\n",
    "                    'label': region,\n",
    "                    'method': 'update',\n",
    "                    'args': [\n",
    "                        {'visible': [(region == r) or (region == r2) for r, r2 in zip(df_melted['Region'].unique(), df2_melted['Region'].unique())] * 2},\n",
    "                        {'title': f'Projected Prosthetics Sold and Limb Loss in {region} (2021-2040)'}\n",
    "                    ]\n",
    "                }\n",
    "                for region in df_melted['Region'].unique()\n",
    "            ],\n",
    "            'direction': 'down',\n",
    "            'showactive': True\n",
    "        }\n",
    "    ]\n",
    ")\n",
    "\n",
    "# Create a Figure and show the plot\n",
    "fig = go.Figure(data=all_traces, layout=layout)\n",
    "fig.show()"
   ]
  },
  {
   "cell_type": "code",
   "execution_count": null,
   "metadata": {},
   "outputs": [],
   "source": []
  }
 ],
 "metadata": {
  "colab": {
   "provenance": []
  },
  "kernelspec": {
   "display_name": "Python 3 (ipykernel)",
   "language": "python",
   "name": "python3"
  },
  "language_info": {
   "codemirror_mode": {
    "name": "ipython",
    "version": 3
   },
   "file_extension": ".py",
   "mimetype": "text/x-python",
   "name": "python",
   "nbconvert_exporter": "python",
   "pygments_lexer": "ipython3",
   "version": "3.11.1"
  }
 },
 "nbformat": 4,
 "nbformat_minor": 1
}
